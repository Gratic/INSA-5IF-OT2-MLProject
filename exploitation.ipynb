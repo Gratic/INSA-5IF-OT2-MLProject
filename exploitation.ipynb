{
 "cells": [
  {
   "cell_type": "markdown",
   "metadata": {},
   "source": [
    "# Exploitation\n",
    "\n",
    "Goal is to exploit a model we trained to detect faces."
   ]
  },
  {
   "cell_type": "code",
   "execution_count": 1,
   "metadata": {},
   "outputs": [
    {
     "name": "stderr",
     "output_type": "stream",
     "text": [
      "c:\\python310\\lib\\site-packages\\tqdm\\auto.py:22: TqdmWarning: IProgress not found. Please update jupyter and ipywidgets. See https://ipywidgets.readthedocs.io/en/stable/user_install.html\n",
      "  from .autonotebook import tqdm as notebook_tqdm\n"
     ]
    }
   ],
   "source": [
    "import cv2 as cv\n",
    "import sys\n",
    "from cv2 import IMREAD_GRAYSCALE, IMREAD_COLOR\n",
    "import torch\n",
    "from torch import nn\n",
    "from deep_learning_project.net import LinearRegressionNetwork, SecondNeuralNetwork\n",
    "from deep_learning_project.load_data import get_transform\n",
    "import torchvision\n",
    "import torchvision.transforms as transforms\n",
    "import numpy as np"
   ]
  },
  {
   "cell_type": "code",
   "execution_count": 2,
   "metadata": {},
   "outputs": [],
   "source": [
    "model = SecondNeuralNetwork()\n",
    "\n",
    "model.load_state_dict(torch.load('models/20221026_1659_SecondNeuralNetwork/best_test_weights.pt'))\n",
    "\n",
    "classes = ['noface', 'face']"
   ]
  },
  {
   "cell_type": "code",
   "execution_count": null,
   "metadata": {},
   "outputs": [],
   "source": [
    "img_src = cv.samples.findFile(\"image2.jpg\")\n",
    "\n",
    "img = cv.imread(img_src, IMREAD_GRAYSCALE)\n",
    "img_color = cv.imread(img_src, IMREAD_COLOR)\n",
    "\n",
    "scale_percent = 50 # percent of original size\n",
    "width = int(img.shape[1] * scale_percent / 100)\n",
    "height = int(img.shape[0] * scale_percent / 100)\n",
    "dim = (width, height)\n",
    "  \n",
    "# resize image\n",
    "img = cv.resize(img, dim, interpolation = cv.INTER_AREA)\n",
    "img_color = cv.resize(img, dim, interpolation = cv.INTER_AREA)\n",
    "\n",
    "if img is None:\n",
    "    sys.exit(\"Could not read the image.\")\n",
    "\n",
    "# process the image to make it the form the ML understand\n",
    "mean = 0.5\n",
    "std = 0.5\n",
    "\n",
    "norm_img = ((img/255)-mean)/std\n",
    "\n",
    "# print(len(norm_img))    # y\n",
    "# print(len(norm_img[0])) # x\n",
    "\n",
    "# cv.imshow(\"Display window\", img)\n",
    "# k = cv.waitKey(0)\n",
    "\n",
    "for y in range(0, len(norm_img) - 36, 8):\n",
    "    for x in range(0, len(norm_img[0]) - 36, 8):\n",
    "# for y in range(0, 1, 1):\n",
    "#     for x in range(0, 1, 1):\n",
    "        new_img = norm_img[y:y+36,x:x+36]\n",
    "\n",
    "        new_img = torch.tensor(new_img, dtype=torch.float32).reshape((1, 1, 36, 36))\n",
    "\n",
    "        # print(new_img)\n",
    "\n",
    "        logits = model(new_img)\n",
    "        pred_probab = nn.Softmax(dim=1)(logits)\n",
    "        y_pred = pred_probab.argmax(1).item()\n",
    "\n",
    "        if(y_pred == 1):\n",
    "            #  print(\"found a face\")\n",
    "             cv.rectangle(img_color, (x,y), (x+36,y+36), (255, 0, 0))\n",
    "\n",
    "        \n",
    "        # print(f\"Predicted class: {classes[y_pred]}\")\n",
    "\n",
    "cv.imshow(\"Display window\", img_color)\n",
    "k = cv.waitKey(0)\n",
    "cv.destroyAllWindows()"
   ]
  },
  {
   "cell_type": "code",
   "execution_count": 3,
   "metadata": {},
   "outputs": [
    {
     "name": "stdout",
     "output_type": "stream",
     "text": [
      "(442, 664, 3)\n",
      "(442, 664, 1)\n",
      "found a face\n",
      "found a face\n"
     ]
    },
    {
     "name": "stderr",
     "output_type": "stream",
     "text": [
      "C:\\Users\\Alexis Strappazzon\\AppData\\Local\\Temp\\ipykernel_6944\\2937267084.py:23: UserWarning: To copy construct from a tensor, it is recommended to use sourceTensor.clone().detach() or sourceTensor.clone().detach().requires_grad_(True), rather than torch.tensor(sourceTensor).\n",
      "  new_img = torch.tensor(new_img, dtype=torch.float32).reshape((1, 1, 36, 36))\n"
     ]
    },
    {
     "name": "stdout",
     "output_type": "stream",
     "text": [
      "found a face\n",
      "found a face\n",
      "found a face\n",
      "found a face\n",
      "found a face\n",
      "found a face\n",
      "found a face\n",
      "found a face\n",
      "found a face\n",
      "found a face\n",
      "found a face\n",
      "found a face\n",
      "found a face\n",
      "found a face\n",
      "found a face\n",
      "found a face\n",
      "found a face\n",
      "found a face\n",
      "found a face\n",
      "found a face\n",
      "found a face\n",
      "found a face\n",
      "found a face\n",
      "found a face\n",
      "found a face\n",
      "found a face\n",
      "found a face\n",
      "found a face\n",
      "found a face\n",
      "found a face\n",
      "found a face\n",
      "found a face\n",
      "found a face\n",
      "found a face\n",
      "found a face\n",
      "found a face\n",
      "found a face\n",
      "found a face\n",
      "found a face\n",
      "found a face\n",
      "found a face\n",
      "found a face\n",
      "found a face\n",
      "found a face\n",
      "found a face\n",
      "found a face\n",
      "found a face\n",
      "found a face\n",
      "found a face\n",
      "found a face\n",
      "found a face\n",
      "found a face\n",
      "found a face\n",
      "found a face\n",
      "found a face\n",
      "found a face\n",
      "found a face\n",
      "found a face\n",
      "found a face\n",
      "found a face\n",
      "found a face\n",
      "found a face\n",
      "found a face\n",
      "found a face\n",
      "found a face\n",
      "found a face\n",
      "found a face\n",
      "found a face\n",
      "found a face\n"
     ]
    }
   ],
   "source": [
    "img_src = cv.samples.findFile(\"image2.jpg\")\n",
    "\n",
    "img = cv.imread(img_src, IMREAD_GRAYSCALE)\n",
    "img_color = cv.imread(img_src, IMREAD_COLOR)\n",
    "\n",
    "print(img_color.shape)\n",
    "\n",
    "transform = get_transform()\n",
    "\n",
    "transformed_image = transform(transforms.ToPILImage()(img_color))\n",
    "\n",
    "transformed_image_np = transformed_image.permute(1, 2, 0).numpy()\n",
    "\n",
    "print(transformed_image_np.shape)\n",
    "\n",
    "for y in range(0, img_color.shape[0] - 36, 8):\n",
    "    for x in range(0, img_color.shape[1] - 36, 8):\n",
    "# for y in range(0, 1, 1):\n",
    "#     for x in range(0, 1, 1):\n",
    "        new_img = transformed_image[:,y:y+36,x:x+36]\n",
    "\n",
    "        # print(new_img.shape)\n",
    "        new_img = torch.tensor(new_img, dtype=torch.float32).reshape((1, 1, 36, 36))\n",
    "\n",
    "        # print(new_img)\n",
    "\n",
    "        logits = model(new_img)\n",
    "        pred_probab = nn.Softmax(dim=1)(logits)\n",
    "        y_pred = pred_probab.argmax(1).item()\n",
    "\n",
    "        if(y_pred == 1):\n",
    "             print(\"found a face\")\n",
    "             cv.rectangle(img_color, (x,y), (x+36,y+36), (255, 0, 0))\n",
    "\n",
    "        \n",
    "        # print(f\"Predicted class: {classes[y_pred]}\")\n",
    "\n",
    "cv.imshow(\"Display window\", img_color)\n",
    "k = cv.waitKey(0)\n",
    "cv.destroyAllWindows()"
   ]
  }
 ],
 "metadata": {
  "kernelspec": {
   "display_name": "Python 3.10.8 64-bit",
   "language": "python",
   "name": "python3"
  },
  "language_info": {
   "codemirror_mode": {
    "name": "ipython",
    "version": 3
   },
   "file_extension": ".py",
   "mimetype": "text/x-python",
   "name": "python",
   "nbconvert_exporter": "python",
   "pygments_lexer": "ipython3",
   "version": "3.10.8"
  },
  "orig_nbformat": 4,
  "vscode": {
   "interpreter": {
    "hash": "c19fa61d258bb2b35aae2ada233c33e2817c1ce895aa48acba720c6bf7cbe3cb"
   }
  }
 },
 "nbformat": 4,
 "nbformat_minor": 2
}
