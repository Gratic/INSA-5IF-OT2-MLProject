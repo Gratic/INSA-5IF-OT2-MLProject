{
 "cells": [
  {
   "cell_type": "code",
   "execution_count": 2,
   "metadata": {},
   "outputs": [],
   "source": [
    "import math"
   ]
  },
  {
   "cell_type": "code",
   "execution_count": 3,
   "metadata": {},
   "outputs": [],
   "source": [
    "def output_conv_size(dimension, kernel_size, stride = 1, padding = 0, dilation = 1):\n",
    "    h_out = math.floor(((dimension[0] + 2 * padding - dilation * (kernel_size - 1) - 1.0)/stride)+1)\n",
    "    w_out = math.floor(((dimension[1] + 2 * padding - dilation * (kernel_size - 1) - 1.0)/stride)+1)\n",
    "    return (h_out, w_out)"
   ]
  },
  {
   "cell_type": "markdown",
   "metadata": {},
   "source": [
    "self.pool = nn.MaxPool2d(2, 2)\n",
    "self.avg = nn.AvgPool2d(7)\n",
    "self.conv1 = nn.Conv2d(1, 72, 3)\n",
    "self.conv2 = nn.Conv2d(72, 144, 3)\n",
    "self.fc1 = nn.Conv2d(144, 256, 1)\n",
    "self.fc2 = nn.Linear(256, 2)"
   ]
  },
  {
   "cell_type": "code",
   "execution_count": 10,
   "metadata": {},
   "outputs": [
    {
     "name": "stdout",
     "output_type": "stream",
     "text": [
      "original dimension= (36, 36)\n",
      "after conv1= (34, 34)\n",
      "after max1= (17, 17)\n",
      "after conv1= (15, 15)\n",
      "after max1= (7, 7)\n",
      "after conv_to_linear= (1, 1)\n",
      "after output= (1, 1)\n"
     ]
    }
   ],
   "source": [
    "base_dim = (36, 36)\n",
    "print(\"original dimension=\", base_dim)\n",
    "\n",
    "conv1 = output_conv_size(base_dim, kernel_size=3, stride=1, padding=0, dilation=1)\n",
    "print(\"after conv1=\", conv1)\n",
    "\n",
    "max1 = output_conv_size(conv1, kernel_size=2, stride=2, padding=0, dilation=1)\n",
    "print(\"after max1=\", max1)\n",
    "\n",
    "conv2 = output_conv_size(max1, kernel_size=3, stride=1, padding=0, dilation=1)\n",
    "print(\"after conv1=\", conv2)\n",
    "\n",
    "max2 = output_conv_size(conv2, kernel_size=2, stride=2, padding=0, dilation=1)\n",
    "print(\"after max1=\", max2)\n",
    "\n",
    "conv_to_linear = output_conv_size(max2, kernel_size=7, stride=1, padding=0, dilation=1)\n",
    "print(\"after conv_to_linear=\", conv_to_linear)\n",
    "\n",
    "\n",
    "output = output_conv_size(conv_to_linear, kernel_size=1, stride=1, padding=0, dilation=1)\n",
    "print(\"after output=\", output)\n"
   ]
  }
 ],
 "metadata": {
  "kernelspec": {
   "display_name": "Python 3.10.8 64-bit",
   "language": "python",
   "name": "python3"
  },
  "language_info": {
   "codemirror_mode": {
    "name": "ipython",
    "version": 3
   },
   "file_extension": ".py",
   "mimetype": "text/x-python",
   "name": "python",
   "nbconvert_exporter": "python",
   "pygments_lexer": "ipython3",
   "version": "3.10.8"
  },
  "orig_nbformat": 4,
  "vscode": {
   "interpreter": {
    "hash": "c19fa61d258bb2b35aae2ada233c33e2817c1ce895aa48acba720c6bf7cbe3cb"
   }
  }
 },
 "nbformat": 4,
 "nbformat_minor": 2
}
