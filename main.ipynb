{
 "cells": [
  {
   "cell_type": "markdown",
   "metadata": {},
   "source": [
    "# Machine Learning Project\n",
    "\n",
    "## Introduction\n",
    "\n",
    "The goal of the project is to recognize if the image is a face or not.\n",
    "\n",
    "Images are greyscale 36x36 pixels images.\n",
    "\n",
    "To reach the goal, we will try to train a convolutional neural network."
   ]
  },
  {
   "cell_type": "code",
   "execution_count": 1,
   "metadata": {},
   "outputs": [],
   "source": [
    "from deep_learning_project.load_data import load\n",
    "from deep_learning_project.net import FirstNeuralNetwork\n",
    "import torch\n",
    "import matplotlib.pyplot as plt\n",
    "from torch import nn\n",
    "from deep_learning_project.trainers import BaseTrainer"
   ]
  },
  {
   "cell_type": "markdown",
   "metadata": {},
   "source": [
    "## Data\n",
    "\n",
    "Data is separated in 3 datasets.\n",
    "\n",
    "Train : to train the ML model.\n",
    "\n",
    "Valid : to valid the ML model.\n",
    "\n",
    "Test : to test the ML model.\n",
    "\n",
    "What is the difference between valid and test datasets. The main differencec is when there are used : valid are used inside the training process but test are used when the training is complete. Why use different datasets to do the same thing (test the generalization of model) ? Some do the validation with the test dataset but it is not scientifically correct because it will include a bias on the model. If we train the model until the test dataset error is the lowest, we effectively train the model for the test dataset... This is why we use two different dataset."
   ]
  },
  {
   "cell_type": "code",
   "execution_count": 2,
   "metadata": {},
   "outputs": [
    {
     "name": "stdout",
     "output_type": "stream",
     "text": [
      "Running on cuda.\n"
     ]
    }
   ],
   "source": [
    "device = \"cuda\" if torch.cuda.is_available() else \"cpu\"\n",
    "valid_size = 0.2\n",
    "batch_size = 32\n",
    "\n",
    "print(f\"Running on {device}.\")\n",
    "\n",
    "data = load(valid_size=valid_size, batch_size=batch_size, device=device)\n",
    "train_loader = data[0]\n",
    "valid_loader = data[1]\n",
    "test_loader = data[2]\n",
    "classes = data[3]"
   ]
  },
  {
   "cell_type": "markdown",
   "metadata": {},
   "source": [
    "Printing one image of the training set.\n"
   ]
  },
  {
   "cell_type": "code",
   "execution_count": 3,
   "metadata": {},
   "outputs": [
    {
     "name": "stdout",
     "output_type": "stream",
     "text": [
      "Feature batch shape: torch.Size([32, 1, 36, 36])\n",
      "Labels batch shape: torch.Size([32])\n"
     ]
    },
    {
     "data": {
      "image/png": "[encoded data removed]",
      "text/plain": [
       "<Figure size 432x288 with 1 Axes>"
      ]
     },
     "metadata": {
      "needs_background": "light"
     },
     "output_type": "display_data"
    },
    {
     "name": "stdout",
     "output_type": "stream",
     "text": [
      "Label: 1\n"
     ]
    }
   ],
   "source": [
    "train_features, train_labels = next(iter(data[0]))\n",
    "\n",
    "print(f\"Feature batch shape: {train_features.size()}\")\n",
    "print(f\"Labels batch shape: {train_labels.size()}\")\n",
    "\n",
    "img = train_features[0].squeeze() # from 2d to 1d, works only when the data is 1d [[x]] => [x]\n",
    "label = train_labels[0]\n",
    "plt.imshow(img, cmap=\"gray\")\n",
    "plt.show()\n",
    "\n",
    "print(f\"Label: {label}\")"
   ]
  },
  {
   "cell_type": "markdown",
   "metadata": {},
   "source": [
    "## Initializing the FirstNeuralNetwork network\n",
    "\n",
    "We initialize the network.\n",
    "\n",
    "Print the configuration.\n",
    "\n",
    "Then predict a random input.\n",
    "\n",
    "---\n",
    "\n",
    "FirstNeuralNetwork is the neural network given by the teacher."
   ]
  },
  {
   "cell_type": "code",
   "execution_count": 4,
   "metadata": {},
   "outputs": [
    {
     "name": "stdout",
     "output_type": "stream",
     "text": [
      "Predicted class: tensor([0], device='cuda:0')\n"
     ]
    }
   ],
   "source": [
    "model = FirstNeuralNetwork().to(device)\n",
    "# print(model)\n",
    "\n",
    "random_shit = torch.rand((1, 1, 36, 36), device=device)\n",
    "\n",
    "logits = model(random_shit)\n",
    "pred_probab = nn.Softmax(dim=1)(logits)\n",
    "y_pred = pred_probab.argmax(1)\n",
    "print(f\"Predicted class: {y_pred}\")"
   ]
  },
  {
   "cell_type": "markdown",
   "metadata": {},
   "source": [
    "## Optimizing the network"
   ]
  },
  {
   "cell_type": "code",
   "execution_count": 6,
   "metadata": {},
   "outputs": [],
   "source": [
    "epochs = 50\n",
    "learning_rate = 0.001\n",
    "\n",
    "loss_fn = nn.CrossEntropyLoss()\n",
    "\n",
    "optimizer = torch.optim.SGD(model.parameters(), lr=learning_rate)\n",
    "trainer = BaseTrainer(model, loss_fn, optimizer)"
   ]
  },
  {
   "cell_type": "code",
   "execution_count": 7,
   "metadata": {},
   "outputs": [
    {
     "name": "stdout",
     "output_type": "stream",
     "text": [
      "Epoch 1\n",
      "-------------------------------\n",
      "loss: 0.760158  [    0/91720]\n",
      "loss: 0.695784  [32768/91720]\n",
      "loss: 0.554281  [65536/91720]\n",
      "Test Error: \n",
      " Accuracy: 10.4%, Avg loss: 0.943738 \n",
      "\n",
      "Epoch 2\n",
      "-------------------------------\n",
      "loss: 0.621058  [    0/91720]\n",
      "loss: 0.485413  [32768/91720]\n",
      "loss: 0.276336  [65536/91720]\n",
      "Test Error: \n",
      " Accuracy: 77.8%, Avg loss: 0.660436 \n",
      "\n",
      "Epoch 3\n",
      "-------------------------------\n",
      "loss: 0.368356  [    0/91720]\n",
      "loss: 0.361327  [32768/91720]\n",
      "loss: 0.261046  [65536/91720]\n",
      "Test Error: \n",
      " Accuracy: 83.6%, Avg loss: 0.441525 \n",
      "\n",
      "Epoch 4\n",
      "-------------------------------\n",
      "loss: 0.165099  [    0/91720]\n",
      "loss: 0.117774  [32768/91720]\n",
      "loss: 0.192987  [65536/91720]\n",
      "Test Error: \n",
      " Accuracy: 84.9%, Avg loss: 0.418412 \n",
      "\n",
      "Epoch 5\n",
      "-------------------------------\n",
      "loss: 0.046761  [    0/91720]\n",
      "loss: 0.214798  [32768/91720]\n",
      "loss: 0.200076  [65536/91720]\n",
      "Test Error: \n",
      " Accuracy: 85.9%, Avg loss: 0.402882 \n",
      "\n",
      "Epoch 6\n",
      "-------------------------------\n",
      "loss: 0.103574  [    0/91720]\n",
      "loss: 0.030351  [32768/91720]\n",
      "loss: 0.028126  [65536/91720]\n",
      "Test Error: \n",
      " Accuracy: 86.9%, Avg loss: 0.396175 \n",
      "\n",
      "Epoch 7\n",
      "-------------------------------\n",
      "loss: 0.058632  [    0/91720]\n",
      "loss: 0.064818  [32768/91720]\n",
      "loss: 0.080241  [65536/91720]\n",
      "Test Error: \n",
      " Accuracy: 87.6%, Avg loss: 0.385976 \n",
      "\n",
      "Epoch 8\n",
      "-------------------------------\n",
      "loss: 0.028022  [    0/91720]\n",
      "loss: 0.153964  [32768/91720]\n",
      "loss: 0.076926  [65536/91720]\n",
      "Test Error: \n",
      " Accuracy: 88.3%, Avg loss: 0.390462 \n",
      "\n",
      "Epoch 9\n",
      "-------------------------------\n",
      "loss: 0.026727  [    0/91720]\n",
      "loss: 0.138534  [32768/91720]\n",
      "loss: 0.130632  [65536/91720]\n",
      "Test Error: \n",
      " Accuracy: 88.5%, Avg loss: 0.379383 \n",
      "\n",
      "Epoch 10\n",
      "-------------------------------\n",
      "loss: 0.073959  [    0/91720]\n",
      "loss: 0.025399  [32768/91720]\n",
      "loss: 0.028540  [65536/91720]\n",
      "Test Error: \n",
      " Accuracy: 89.2%, Avg loss: 0.360118 \n",
      "\n",
      "Epoch 11\n",
      "-------------------------------\n",
      "loss: 0.048362  [    0/91720]\n",
      "loss: 0.070454  [32768/91720]\n",
      "loss: 0.083648  [65536/91720]\n",
      "Test Error: \n",
      " Accuracy: 88.4%, Avg loss: 0.365645 \n",
      "\n",
      "Epoch 12\n",
      "-------------------------------\n",
      "loss: 0.083900  [    0/91720]\n",
      "loss: 0.070992  [32768/91720]\n",
      "loss: 0.100193  [65536/91720]\n",
      "Test Error: \n",
      " Accuracy: 89.4%, Avg loss: 0.369238 \n",
      "\n",
      "Epoch 13\n",
      "-------------------------------\n",
      "loss: 0.114823  [    0/91720]\n",
      "loss: 0.024180  [32768/91720]\n",
      "loss: 0.054823  [65536/91720]\n",
      "Test Error: \n",
      " Accuracy: 89.7%, Avg loss: 0.363633 \n",
      "\n",
      "Epoch 14\n",
      "-------------------------------\n",
      "loss: 0.178669  [    0/91720]\n",
      "loss: 0.156215  [32768/91720]\n",
      "loss: 0.032808  [65536/91720]\n",
      "Test Error: \n",
      " Accuracy: 90.5%, Avg loss: 0.355216 \n",
      "\n",
      "Epoch 15\n",
      "-------------------------------\n",
      "loss: 0.015610  [    0/91720]\n",
      "loss: 0.050756  [32768/91720]\n",
      "loss: 0.074837  [65536/91720]\n",
      "Test Error: \n",
      " Accuracy: 90.3%, Avg loss: 0.343092 \n",
      "\n",
      "Epoch 16\n",
      "-------------------------------\n",
      "loss: 0.025371  [    0/91720]\n",
      "loss: 0.116642  [32768/91720]\n",
      "loss: 0.040909  [65536/91720]\n",
      "Test Error: \n",
      " Accuracy: 90.3%, Avg loss: 0.365235 \n",
      "\n",
      "Epoch 17\n",
      "-------------------------------\n",
      "loss: 0.031295  [    0/91720]\n",
      "loss: 0.030291  [32768/91720]\n",
      "loss: 0.044523  [65536/91720]\n",
      "Test Error: \n",
      " Accuracy: 90.5%, Avg loss: 0.345925 \n",
      "\n",
      "Epoch 18\n",
      "-------------------------------\n",
      "loss: 0.026167  [    0/91720]\n",
      "loss: 0.029580  [32768/91720]\n",
      "loss: 0.017471  [65536/91720]\n",
      "Test Error: \n",
      " Accuracy: 91.0%, Avg loss: 0.351955 \n",
      "\n",
      "Epoch 19\n",
      "-------------------------------\n",
      "loss: 0.008239  [    0/91720]\n",
      "loss: 0.005351  [32768/91720]\n",
      "loss: 0.060952  [65536/91720]\n",
      "Test Error: \n",
      " Accuracy: 90.9%, Avg loss: 0.356323 \n",
      "\n",
      "Epoch 20\n",
      "-------------------------------\n",
      "loss: 0.095898  [    0/91720]\n",
      "loss: 0.023587  [32768/91720]\n",
      "loss: 0.011283  [65536/91720]\n",
      "Test Error: \n",
      " Accuracy: 90.6%, Avg loss: 0.341736 \n",
      "\n",
      "Epoch 21\n",
      "-------------------------------\n",
      "loss: 0.008492  [    0/91720]\n",
      "loss: 0.009948  [32768/91720]\n",
      "loss: 0.022206  [65536/91720]\n",
      "Test Error: \n",
      " Accuracy: 91.2%, Avg loss: 0.347404 \n",
      "\n",
      "Epoch 22\n",
      "-------------------------------\n",
      "loss: 0.066903  [    0/91720]\n",
      "loss: 0.010637  [32768/91720]\n",
      "loss: 0.175180  [65536/91720]\n",
      "Test Error: \n",
      " Accuracy: 91.3%, Avg loss: 0.345688 \n",
      "\n",
      "Epoch 23\n",
      "-------------------------------\n",
      "loss: 0.045686  [    0/91720]\n"
     ]
    },
    {
     "ename": "KeyboardInterrupt",
     "evalue": "",
     "output_type": "error",
     "traceback": [
      "\u001b[1;31m---------------------------------------------------------------------------\u001b[0m",
      "\u001b[1;31mKeyboardInterrupt\u001b[0m                         Traceback (most recent call last)",
      "\u001b[1;32mc:\\Users\\Alexis Strappazzon\\Documents\\git\\INSA-5IF-OT2-MLProject\\main.ipynb Cellule 11\u001b[0m in \u001b[0;36m<cell line: 1>\u001b[1;34m()\u001b[0m\n\u001b[1;32m----> <a href='vscode-notebook-cell:/c%3A/Users/Alexis%20Strappazzon/Documents/git/INSA-5IF-OT2-MLProject/main.ipynb#X14sZmlsZQ%3D%3D?line=0'>1</a>\u001b[0m trainer\u001b[39m.\u001b[39;49mfit(train_loader\u001b[39m=\u001b[39;49mtrain_loader,\n\u001b[0;32m      <a href='vscode-notebook-cell:/c%3A/Users/Alexis%20Strappazzon/Documents/git/INSA-5IF-OT2-MLProject/main.ipynb#X14sZmlsZQ%3D%3D?line=1'>2</a>\u001b[0m             test_loader\u001b[39m=\u001b[39;49mtest_loader,\n\u001b[0;32m      <a href='vscode-notebook-cell:/c%3A/Users/Alexis%20Strappazzon/Documents/git/INSA-5IF-OT2-MLProject/main.ipynb#X14sZmlsZQ%3D%3D?line=2'>3</a>\u001b[0m             epochs\u001b[39m=\u001b[39;49m\u001b[39m50\u001b[39;49m,\n\u001b[0;32m      <a href='vscode-notebook-cell:/c%3A/Users/Alexis%20Strappazzon/Documents/git/INSA-5IF-OT2-MLProject/main.ipynb#X14sZmlsZQ%3D%3D?line=3'>4</a>\u001b[0m             device\u001b[39m=\u001b[39;49mdevice)\n",
      "File \u001b[1;32mc:\\Users\\Alexis Strappazzon\\Documents\\git\\INSA-5IF-OT2-MLProject\\deep_learning_project\\trainers.py:13\u001b[0m, in \u001b[0;36mBaseTrainer.fit\u001b[1;34m(self, train_loader, test_loader, epochs, device)\u001b[0m\n\u001b[0;32m     11\u001b[0m \u001b[39mfor\u001b[39;00m t \u001b[39min\u001b[39;00m \u001b[39mrange\u001b[39m(epochs):\n\u001b[0;32m     12\u001b[0m     \u001b[39mprint\u001b[39m(\u001b[39mf\u001b[39m\u001b[39m\"\u001b[39m\u001b[39mEpoch \u001b[39m\u001b[39m{\u001b[39;00mt\u001b[39m+\u001b[39m\u001b[39m1\u001b[39m\u001b[39m}\u001b[39;00m\u001b[39m\\n\u001b[39;00m\u001b[39m-------------------------------\u001b[39m\u001b[39m\"\u001b[39m)\n\u001b[1;32m---> 13\u001b[0m     \u001b[39mself\u001b[39;49m\u001b[39m.\u001b[39;49mtrain_loop(train_loader, \u001b[39mself\u001b[39;49m\u001b[39m.\u001b[39;49mmodel, \u001b[39mself\u001b[39;49m\u001b[39m.\u001b[39;49mloss_fn, \u001b[39mself\u001b[39;49m\u001b[39m.\u001b[39;49moptimizer, device)\n\u001b[0;32m     14\u001b[0m     \u001b[39mself\u001b[39m\u001b[39m.\u001b[39mtest_loop(test_loader, \u001b[39mself\u001b[39m\u001b[39m.\u001b[39mmodel, \u001b[39mself\u001b[39m\u001b[39m.\u001b[39mloss_fn, device)\n\u001b[0;32m     15\u001b[0m \u001b[39mprint\u001b[39m(\u001b[39m\"\u001b[39m\u001b[39mDone!\u001b[39m\u001b[39m\"\u001b[39m)\n",
      "File \u001b[1;32mc:\\Users\\Alexis Strappazzon\\Documents\\git\\INSA-5IF-OT2-MLProject\\deep_learning_project\\trainers.py:23\u001b[0m, in \u001b[0;36mBaseTrainer.train_loop\u001b[1;34m(self, dataloader, model, loss_fn, optimizer, device)\u001b[0m\n\u001b[0;32m     21\u001b[0m size \u001b[39m=\u001b[39m \u001b[39mlen\u001b[39m(dataloader\u001b[39m.\u001b[39mdataset)\n\u001b[0;32m     22\u001b[0m \u001b[39mfor\u001b[39;00m batch, (X, y) \u001b[39min\u001b[39;00m \u001b[39menumerate\u001b[39m(dataloader):\n\u001b[1;32m---> 23\u001b[0m     X \u001b[39m=\u001b[39m X\u001b[39m.\u001b[39;49mto(device)\n\u001b[0;32m     24\u001b[0m     y \u001b[39m=\u001b[39m y\u001b[39m.\u001b[39mto(device)\n\u001b[0;32m     26\u001b[0m     \u001b[39m# Compute prediction and loss\u001b[39;00m\n",
      "\u001b[1;31mKeyboardInterrupt\u001b[0m: "
     ]
    }
   ],
   "source": [
    "trainer.fit(train_loader=train_loader,\n",
    "            test_loader=test_loader,\n",
    "            epochs=epochs,\n",
    "            device=device)"
   ]
  },
  {
   "cell_type": "code",
   "execution_count": null,
   "metadata": {},
   "outputs": [],
   "source": [
    "# save model\n",
    "# torch.save(model, 'model.pt')"
   ]
  },
  {
   "cell_type": "code",
   "execution_count": null,
   "metadata": {},
   "outputs": [
    {
     "name": "stdout",
     "output_type": "stream",
     "text": [
      "Test Error: \n",
      " Accuracy: 91.5%, Avg loss: 0.318500 \n",
      "\n"
     ]
    }
   ],
   "source": [
    "# load model\n",
    "# ld_model = torch.load('model.pt')\n",
    "\n",
    "# test_loop(test_loader, ld_model, loss_fn)"
   ]
  }
 ],
 "metadata": {
  "kernelspec": {
   "display_name": "Python 3.10.2 64-bit",
   "language": "python",
   "name": "python3"
  },
  "language_info": {
   "codemirror_mode": {
    "name": "ipython",
    "version": 3
   },
   "file_extension": ".py",
   "mimetype": "text/x-python",
   "name": "python",
   "nbconvert_exporter": "python",
   "pygments_lexer": "ipython3",
   "version": "3.10.8"
  },
  "orig_nbformat": 4,
  "vscode": {
   "interpreter": {
    "hash": "c19fa61d258bb2b35aae2ada233c33e2817c1ce895aa48acba720c6bf7cbe3cb"
   }
  }
 },
 "nbformat": 4,
 "nbformat_minor": 2
}
