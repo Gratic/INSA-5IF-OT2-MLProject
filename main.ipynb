{
 "cells": [
  {
   "cell_type": "markdown",
   "metadata": {},
   "source": [
    "# Machine Learning Project\n",
    "\n",
    "## Introduction\n",
    "\n",
    "The goal of the project is to recognize if the image is a face or not.\n",
    "\n",
    "Images are greyscale 36x36 pixels images.\n",
    "\n",
    "To reach the goal, we will try to train a convolutional neural network."
   ]
  },
  {
   "cell_type": "code",
   "execution_count": 8,
   "metadata": {},
   "outputs": [],
   "source": [
    "from deep_learning_project.load_data import load\n",
    "from deep_learning_project.net import Net\n",
    "import torch\n",
    "import matplotlib.pyplot as plt\n",
    "from torch import nn"
   ]
  },
  {
   "cell_type": "markdown",
   "metadata": {},
   "source": [
    "## Data\n",
    "\n",
    "Data is separated in 3 datasets.\n",
    "\n",
    "Train : to train the ML model.\n",
    "\n",
    "Valid : to valid the ML model.\n",
    "\n",
    "Test : to test the ML model.\n",
    "\n",
    "What is the difference between valid and test datasets. The main differencec is when there are used : valid are used inside the training process but test are used when the training is complete. Why use different datasets to do the same thing (test the generalization of model) ? Some do the validation with the test dataset but it is not scientifically correct because it will include a bias on the model. If we train the model until the test dataset error is the lowest, we effectively train the model for the test dataset... This is why we use two different dataset."
   ]
  },
  {
   "cell_type": "code",
   "execution_count": 9,
   "metadata": {},
   "outputs": [
    {
     "name": "stdout",
     "output_type": "stream",
     "text": [
      "Running on cuda.\n"
     ]
    }
   ],
   "source": [
    "device = \"cuda\" if torch.cuda.is_available() else \"cpu\"\n",
    "print(f\"Running on {device}.\")\n",
    "\n",
    "data = load()\n",
    "train_loader = data[0]\n",
    "valid_loader = data[1]\n",
    "test_loader = data[2]\n",
    "classes = data[3]"
   ]
  },
  {
   "cell_type": "markdown",
   "metadata": {},
   "source": [
    "Printing one image of the training set.\n"
   ]
  },
  {
   "cell_type": "code",
   "execution_count": 10,
   "metadata": {},
   "outputs": [
    {
     "name": "stdout",
     "output_type": "stream",
     "text": [
      "Feature batch shape: torch.Size([8, 1, 36, 36])\n",
      "Labels batch shape: torch.Size([8])\n"
     ]
    },
    {
     "data": {
      "image/png": "[encoded data removed]",
      "text/plain": [
       "<Figure size 432x288 with 1 Axes>"
      ]
     },
     "metadata": {
      "needs_background": "light"
     },
     "output_type": "display_data"
    },
    {
     "name": "stdout",
     "output_type": "stream",
     "text": [
      "Label: 1\n"
     ]
    }
   ],
   "source": [
    "train_features, train_labels = next(iter(data[0]))\n",
    "\n",
    "print(f\"Feature batch shape: {train_features.size()}\")\n",
    "print(f\"Labels batch shape: {train_labels.size()}\")\n",
    "\n",
    "img = train_features[0].squeeze() # from 2d to 1d, works only when the data is 1d [[x]] => [x]\n",
    "label = train_labels[0]\n",
    "plt.imshow(img, cmap=\"gray\")\n",
    "plt.show()\n",
    "\n",
    "print(f\"Label: {label}\")"
   ]
  },
  {
   "cell_type": "markdown",
   "metadata": {},
   "source": [
    "## Initializing the network\n",
    "\n",
    "We initialize the network.\n",
    "\n",
    "Print the configuration.\n",
    "\n",
    "Then predict a random input."
   ]
  },
  {
   "cell_type": "code",
   "execution_count": 11,
   "metadata": {},
   "outputs": [
    {
     "name": "stdout",
     "output_type": "stream",
     "text": [
      "Net(\n",
      "  (conv1): Conv2d(1, 6, kernel_size=(5, 5), stride=(1, 1))\n",
      "  (pool): MaxPool2d(kernel_size=2, stride=2, padding=0, dilation=1, ceil_mode=False)\n",
      "  (conv2): Conv2d(6, 16, kernel_size=(5, 5), stride=(1, 1))\n",
      "  (fc1): Linear(in_features=576, out_features=32, bias=True)\n",
      "  (fc2): Linear(in_features=32, out_features=16, bias=True)\n",
      "  (fc3): Linear(in_features=16, out_features=2, bias=True)\n",
      ")\n",
      "Predicted class: tensor([0], device='cuda:0')\n"
     ]
    }
   ],
   "source": [
    "model = Net().to(device)\n",
    "print(model)\n",
    "\n",
    "random_shit = torch.rand((1, 1, 36, 36), device=device)\n",
    "\n",
    "logits = model(random_shit)\n",
    "pred_probab = nn.Softmax(dim=1)(logits)\n",
    "y_pred = pred_probab.argmax(1)\n",
    "print(f\"Predicted class: {y_pred}\")"
   ]
  },
  {
   "cell_type": "markdown",
   "metadata": {},
   "source": [
    "## Optimizing the network"
   ]
  },
  {
   "cell_type": "code",
   "execution_count": 12,
   "metadata": {},
   "outputs": [],
   "source": [
    "def train_loop(dataloader, model, loss_fn, optimizer):\n",
    "    size = len(dataloader.dataset)\n",
    "    for batch, (X, y) in enumerate(dataloader):\n",
    "        X = X.to(device)\n",
    "        y = y.to(device)\n",
    "\n",
    "        # Compute prediction and loss\n",
    "        pred = model(X)\n",
    "        loss = loss_fn(pred, y)\n",
    "\n",
    "        # Backpropagation\n",
    "        optimizer.zero_grad()\n",
    "        loss.backward()\n",
    "        optimizer.step()\n",
    "\n",
    "        if batch % 1000 == 0:\n",
    "            loss, current = loss.item(), batch * len(X)\n",
    "            print(f\"loss: {loss:>7f}  [{current:>5d}/{size:>5d}]\")\n",
    "\n",
    "\n",
    "def test_loop(dataloader, model, loss_fn):\n",
    "    size = len(dataloader.dataset)\n",
    "    num_batches = len(dataloader)\n",
    "    test_loss, correct = 0, 0\n",
    "\n",
    "    with torch.no_grad():\n",
    "        for X, y in dataloader:\n",
    "            X = X.to(device)\n",
    "            y = y.to(device)\n",
    "            pred = model(X)\n",
    "            test_loss += loss_fn(pred, y).item()\n",
    "            correct += (pred.argmax(1) == y).type(torch.float).sum().item()\n",
    "\n",
    "    test_loss /= num_batches\n",
    "    correct /= size\n",
    "    print(f\"Test Error: \\n Accuracy: {(100*correct):>0.1f}%, Avg loss: {test_loss:>8f} \\n\")"
   ]
  },
  {
   "cell_type": "code",
   "execution_count": 13,
   "metadata": {},
   "outputs": [],
   "source": [
    "epochs = 5\n",
    "learning_rate = 0.05\n",
    "\n",
    "loss_fn = nn.CrossEntropyLoss()\n",
    "\n",
    "optimizer = torch.optim.SGD(model.parameters(), lr=learning_rate)"
   ]
  },
  {
   "cell_type": "code",
   "execution_count": 14,
   "metadata": {},
   "outputs": [
    {
     "name": "stdout",
     "output_type": "stream",
     "text": [
      "Epoch 1\n",
      "-------------------------------\n",
      "loss: 0.698951  [    0/91720]\n",
      "loss: 0.089285  [ 8000/91720]\n",
      "loss: 0.010873  [16000/91720]\n",
      "loss: 0.006118  [24000/91720]\n",
      "loss: 0.020308  [32000/91720]\n",
      "loss: 0.002673  [40000/91720]\n",
      "loss: 0.123980  [48000/91720]\n",
      "loss: 0.000467  [56000/91720]\n",
      "loss: 0.002845  [64000/91720]\n",
      "loss: 0.000074  [72000/91720]\n",
      "Test Error: \n",
      " Accuracy: 91.6%, Avg loss: 0.422149 \n",
      "\n",
      "Epoch 2\n",
      "-------------------------------\n",
      "loss: 0.000010  [    0/91720]\n",
      "loss: 0.009099  [ 8000/91720]\n",
      "loss: 0.000644  [16000/91720]\n",
      "loss: 0.000114  [24000/91720]\n",
      "loss: 0.109579  [32000/91720]\n",
      "loss: 0.001309  [40000/91720]\n",
      "loss: 0.000030  [48000/91720]\n",
      "loss: 0.006293  [56000/91720]\n",
      "loss: 0.000120  [64000/91720]\n",
      "loss: 0.016093  [72000/91720]\n",
      "Test Error: \n",
      " Accuracy: 93.5%, Avg loss: 0.491398 \n",
      "\n",
      "Epoch 3\n",
      "-------------------------------\n",
      "loss: 0.000950  [    0/91720]\n",
      "loss: 0.000007  [ 8000/91720]\n",
      "loss: 0.000111  [16000/91720]\n",
      "loss: 0.000106  [24000/91720]\n",
      "loss: 0.000001  [32000/91720]\n",
      "loss: 0.000118  [40000/91720]\n",
      "loss: 0.000002  [48000/91720]\n",
      "loss: 0.000022  [56000/91720]\n",
      "loss: 0.000018  [64000/91720]\n",
      "loss: 0.000008  [72000/91720]\n",
      "Test Error: \n",
      " Accuracy: 92.6%, Avg loss: 0.650114 \n",
      "\n",
      "Epoch 4\n",
      "-------------------------------\n",
      "loss: 0.002004  [    0/91720]\n",
      "loss: 0.000046  [ 8000/91720]\n",
      "loss: 0.002333  [16000/91720]\n",
      "loss: 0.000049  [24000/91720]\n",
      "loss: 0.000117  [32000/91720]\n",
      "loss: 0.000003  [40000/91720]\n",
      "loss: 0.000005  [48000/91720]\n",
      "loss: 0.021966  [56000/91720]\n",
      "loss: 0.010391  [64000/91720]\n",
      "loss: 0.000006  [72000/91720]\n",
      "Test Error: \n",
      " Accuracy: 94.1%, Avg loss: 0.470609 \n",
      "\n",
      "Epoch 5\n",
      "-------------------------------\n",
      "loss: 0.000132  [    0/91720]\n",
      "loss: 0.000000  [ 8000/91720]\n",
      "loss: 0.000163  [16000/91720]\n",
      "loss: 0.000010  [24000/91720]\n",
      "loss: 0.000180  [32000/91720]\n",
      "loss: 0.001600  [40000/91720]\n",
      "loss: 0.000002  [48000/91720]\n",
      "loss: 0.014579  [56000/91720]\n",
      "loss: 0.000003  [64000/91720]\n",
      "loss: 0.003427  [72000/91720]\n",
      "Test Error: \n",
      " Accuracy: 95.1%, Avg loss: 0.450705 \n",
      "\n",
      "Done!\n"
     ]
    }
   ],
   "source": [
    "for t in range(epochs):\n",
    "    print(f\"Epoch {t+1}\\n-------------------------------\")\n",
    "    train_loop(train_loader, model, loss_fn, optimizer)\n",
    "    test_loop(test_loader, model, loss_fn)\n",
    "print(\"Done!\")"
   ]
  }
 ],
 "metadata": {
  "kernelspec": {
   "display_name": "Python 3.10.2 64-bit",
   "language": "python",
   "name": "python3"
  },
  "language_info": {
   "codemirror_mode": {
    "name": "ipython",
    "version": 3
   },
   "file_extension": ".py",
   "mimetype": "text/x-python",
   "name": "python",
   "nbconvert_exporter": "python",
   "pygments_lexer": "ipython3",
   "version": "3.10.8"
  },
  "orig_nbformat": 4,
  "vscode": {
   "interpreter": {
    "hash": "c19fa61d258bb2b35aae2ada233c33e2817c1ce895aa48acba720c6bf7cbe3cb"
   }
  }
 },
 "nbformat": 4,
 "nbformat_minor": 2
}
