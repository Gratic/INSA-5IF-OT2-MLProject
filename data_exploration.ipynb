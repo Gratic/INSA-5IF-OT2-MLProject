{
 "cells": [
  {
   "cell_type": "markdown",
   "metadata": {},
   "source": [
    "# Data exploration\n",
    "\n",
    "In this jupyter notebook, we will try to get an insight on the data."
   ]
  },
  {
   "cell_type": "code",
   "execution_count": 1,
   "metadata": {},
   "outputs": [
    {
     "name": "stderr",
     "output_type": "stream",
     "text": [
      "c:\\python310\\lib\\site-packages\\tqdm\\auto.py:22: TqdmWarning: IProgress not found. Please update jupyter and ipywidgets. See https://ipywidgets.readthedocs.io/en/stable/user_install.html\n",
      "  from .autonotebook import tqdm as notebook_tqdm\n"
     ]
    }
   ],
   "source": [
    "from deep_learning_project.load_data import basic_load, balanced_load\n",
    "import matplotlib.pyplot as plt\n",
    "from collections import Counter"
   ]
  },
  {
   "cell_type": "code",
   "execution_count": 2,
   "metadata": {},
   "outputs": [],
   "source": [
    "valid_size = 0.2\n",
    "batch_size = 32"
   ]
  },
  {
   "cell_type": "markdown",
   "metadata": {},
   "source": [
    "# Basic Load"
   ]
  },
  {
   "cell_type": "code",
   "execution_count": 3,
   "metadata": {},
   "outputs": [],
   "source": [
    "data = basic_load(valid_size=valid_size, batch_size=batch_size, device='cpu')\n",
    "train_loader = data[0]\n",
    "valid_loader = data[1]\n",
    "test_loader = data[2]\n",
    "classes = data[3]"
   ]
  },
  {
   "cell_type": "code",
   "execution_count": 4,
   "metadata": {},
   "outputs": [
    {
     "name": "stdout",
     "output_type": "stream",
     "text": [
      "Counter({1: 51768, 0: 21608})\n",
      "Counter({1: 13002, 0: 5342})\n",
      "Counter({0: 6831, 1: 797})\n"
     ]
    }
   ],
   "source": [
    "cnt_train = Counter()\n",
    "cnt_valid = Counter()\n",
    "cnt_test = Counter()\n",
    "\n",
    "for x, y in train_loader:\n",
    "    cnt_train.update(y.numpy())\n",
    "\n",
    "for x, y in valid_loader:\n",
    "    cnt_valid.update(y.numpy())\n",
    "\n",
    "for x, y in test_loader:\n",
    "    cnt_test.update(y.numpy())\n",
    "\n",
    "\n",
    "\n",
    "print(cnt_train)\n",
    "print(cnt_valid)\n",
    "print(cnt_test)\n"
   ]
  },
  {
   "cell_type": "code",
   "execution_count": 5,
   "metadata": {},
   "outputs": [
    {
     "name": "stdout",
     "output_type": "stream",
     "text": [
      "cnt_train[0]=21608\n",
      "cnt_train[1]=51768\n",
      "cnt_valid[0]=5342\n",
      "cnt_valid[1]=13002\n",
      "cnt_test[0]=6831\n",
      "cnt_test[1]=797\n",
      "Ratio between noface and total pop in training dataset : 29.45%\n",
      "Ratio between noface and total pop in validation dataset : 29.12%\n",
      "Ratio between noface and total pop in testing dataset : 89.55%\n",
      "---\n",
      "Ratio between noface and face in training dataset : 41.74%\n",
      "Ratio between noface and face in validation dataset : 41.09%\n",
      "Ratio between noface and face in testing dataset : 857.09%\n"
     ]
    }
   ],
   "source": [
    "train_total = sum(list(cnt_train.values()))\n",
    "valid_total = sum(list(cnt_valid.values()))\n",
    "test_total = sum(list(cnt_test.values()))\n",
    "\n",
    "train_0_total_ratio = cnt_train[0]/train_total\n",
    "valid_0_total_ratio = cnt_valid[0]/valid_total\n",
    "test_0_total_ratio = cnt_test[0]/test_total\n",
    "\n",
    "train_0_1_ratio = cnt_train[0]/cnt_train[1]\n",
    "valid_0_1_ratio = cnt_valid[0]/cnt_valid[1]\n",
    "test_0_1_ratio = cnt_test[0]/cnt_test[1]\n",
    "\n",
    "print('cnt_train[0]={}'.format(cnt_train[0]))\n",
    "print('cnt_train[1]={}'.format(cnt_train[1]))\n",
    "print('cnt_valid[0]={}'.format(cnt_valid[0]))\n",
    "print('cnt_valid[1]={}'.format(cnt_valid[1]))\n",
    "print('cnt_test[0]={}'.format(cnt_test[0]))\n",
    "print('cnt_test[1]={}'.format(cnt_test[1]))\n",
    "\n",
    "print('Ratio between noface and total pop in training dataset : {:.2%}'.format(train_0_total_ratio))\n",
    "print('Ratio between noface and total pop in validation dataset : {:.2%}'.format(valid_0_total_ratio))\n",
    "print('Ratio between noface and total pop in testing dataset : {:.2%}'.format(test_0_total_ratio))\n",
    "print('---')\n",
    "print('Ratio between noface and face in training dataset : {:.2%}'.format(train_0_1_ratio))\n",
    "print('Ratio between noface and face in validation dataset : {:.2%}'.format(valid_0_1_ratio))\n",
    "print('Ratio between noface and face in testing dataset : {:.2%}'.format(test_0_1_ratio))"
   ]
  },
  {
   "cell_type": "code",
   "execution_count": 18,
   "metadata": {},
   "outputs": [
    {
     "data": {
      "image/png": "[encoded data removed]",
      "text/plain": [
       "<Figure size 864x360 with 3 Axes>"
      ]
     },
     "metadata": {
      "needs_background": "light"
     },
     "output_type": "display_data"
    }
   ],
   "source": [
    "fig, axs = plt.subplots(ncols=3, nrows=1, figsize=(12,5))\n",
    "\n",
    "axs[0].bar(classes, [cnt_train[x] for x in [0, 1]])\n",
    "axs[0].set_ybound(0, 60000)\n",
    "axs[0].axhline(0.5*train_total, color='r')\n",
    "axs[0].set_title('Train count')\n",
    "\n",
    "axs[1].bar(classes, [cnt_valid[x] for x in [0, 1]])\n",
    "axs[1].set_ybound(0, 60000)\n",
    "axs[1].axhline(0.5*valid_total, color='r')\n",
    "axs[1].set_title('Valid count')\n",
    "\n",
    "axs[2].bar(classes, [cnt_test[x] for x in [0, 1]])\n",
    "axs[2].set_ybound(0, 60000)\n",
    "axs[2].axhline(0.5*test_total, color='r')\n",
    "axs[2].set_title('Test count')\n",
    "\n",
    "fig.suptitle('Basic Load Counts (red line is balanced case)')\n",
    "\n",
    "plt.show()"
   ]
  },
  {
   "cell_type": "code",
   "execution_count": 7,
   "metadata": {},
   "outputs": [
    {
     "data": {
      "image/png": "[encoded data removed]",
      "text/plain": [
       "<Figure size 864x432 with 2 Axes>"
      ]
     },
     "metadata": {
      "needs_background": "light"
     },
     "output_type": "display_data"
    }
   ],
   "source": [
    "fig, axs = plt.subplots(ncols=1, nrows=2, figsize=(12,6))\n",
    "\n",
    "axs[0].bar(['train_ratio', 'valid_ratio', 'test_ratio'], [train_0_total_ratio, valid_0_total_ratio, test_0_total_ratio])\n",
    "axs[0].axhline(0.5)\n",
    "axs[0].set_title('Class balance ratio (0=noface to total samples)')\n",
    "\n",
    "axs[1].bar(['train_ratio', 'valid_ratio', 'test_ratio'], [train_0_1_ratio, valid_0_1_ratio, test_0_1_ratio])\n",
    "axs[1].axhline(0.5)\n",
    "axs[1].set_title('Class balance ratio (0=noface to 1=face)')\n",
    "\n",
    "plt.show()"
   ]
  },
  {
   "cell_type": "markdown",
   "metadata": {},
   "source": [
    "# Balanced load"
   ]
  },
  {
   "cell_type": "code",
   "execution_count": 8,
   "metadata": {},
   "outputs": [
    {
     "name": "stdout",
     "output_type": "stream",
     "text": [
      "73376\n",
      "18344\n"
     ]
    }
   ],
   "source": [
    "data = balanced_load(valid_size=valid_size, batch_size=batch_size, device='cpu')\n",
    "train_loader = data[0]\n",
    "valid_loader = data[1]\n",
    "test_loader = data[2]\n",
    "classes = data[3]"
   ]
  },
  {
   "cell_type": "code",
   "execution_count": 9,
   "metadata": {},
   "outputs": [
    {
     "name": "stdout",
     "output_type": "stream",
     "text": [
      "Counter({1: 51816, 0: 21560})\n",
      "Counter({1: 12954, 0: 5390})\n",
      "Counter({0: 6831, 1: 797})\n"
     ]
    }
   ],
   "source": [
    "cnt_train = Counter()\n",
    "cnt_valid = Counter()\n",
    "cnt_test = Counter()\n",
    "\n",
    "for x, y in train_loader:\n",
    "    cnt_train.update(y.numpy())\n",
    "\n",
    "for x, y in valid_loader:\n",
    "    cnt_valid.update(y.numpy())\n",
    "\n",
    "for x, y in test_loader:\n",
    "    cnt_test.update(y.numpy())\n",
    "\n",
    "print(cnt_train)\n",
    "print(cnt_valid)\n",
    "print(cnt_test)"
   ]
  },
  {
   "cell_type": "code",
   "execution_count": 10,
   "metadata": {},
   "outputs": [
    {
     "name": "stdout",
     "output_type": "stream",
     "text": [
      "cnt_train[0]=21560\n",
      "cnt_train[1]=51816\n",
      "cnt_valid[0]=5390\n",
      "cnt_valid[1]=12954\n",
      "cnt_test[0]=6831\n",
      "cnt_test[1]=797\n",
      "Ratio between noface and total pop in training dataset : 29.38%\n",
      "Ratio between noface and total pop in validation dataset : 29.38%\n",
      "Ratio between noface and total pop in testing dataset : 89.55%\n",
      "---\n",
      "Ratio between noface and face in training dataset : 41.61%\n",
      "Ratio between noface and face in validation dataset : 41.61%\n",
      "Ratio between noface and face in testing dataset : 857.09%\n"
     ]
    }
   ],
   "source": [
    "train_total = sum(list(cnt_train.values()))\n",
    "valid_total = sum(list(cnt_valid.values()))\n",
    "test_total = sum(list(cnt_test.values()))\n",
    "\n",
    "train_0_total_ratio = cnt_train[0]/train_total\n",
    "valid_0_total_ratio = cnt_valid[0]/valid_total\n",
    "test_0_total_ratio = cnt_test[0]/test_total\n",
    "\n",
    "train_0_1_ratio = cnt_train[0]/cnt_train[1]\n",
    "valid_0_1_ratio = cnt_valid[0]/cnt_valid[1]\n",
    "test_0_1_ratio = cnt_test[0]/cnt_test[1]\n",
    "\n",
    "print('cnt_train[0]={}'.format(cnt_train[0]))\n",
    "print('cnt_train[1]={}'.format(cnt_train[1]))\n",
    "print('cnt_valid[0]={}'.format(cnt_valid[0]))\n",
    "print('cnt_valid[1]={}'.format(cnt_valid[1]))\n",
    "print('cnt_test[0]={}'.format(cnt_test[0]))\n",
    "print('cnt_test[1]={}'.format(cnt_test[1]))\n",
    "\n",
    "print('Ratio between noface and total pop in training dataset : {:.2%}'.format(train_0_total_ratio))\n",
    "print('Ratio between noface and total pop in validation dataset : {:.2%}'.format(valid_0_total_ratio))\n",
    "print('Ratio between noface and total pop in testing dataset : {:.2%}'.format(test_0_total_ratio))\n",
    "print('---')\n",
    "print('Ratio between noface and face in training dataset : {:.2%}'.format(train_0_1_ratio))\n",
    "print('Ratio between noface and face in validation dataset : {:.2%}'.format(valid_0_1_ratio))\n",
    "print('Ratio between noface and face in testing dataset : {:.2%}'.format(test_0_1_ratio))"
   ]
  },
  {
   "cell_type": "code",
   "execution_count": 12,
   "metadata": {},
   "outputs": [
    {
     "data": {
      "image/png": "[encoded data removed]",
      "text/plain": [
       "<Figure size 864x360 with 3 Axes>"
      ]
     },
     "metadata": {
      "needs_background": "light"
     },
     "output_type": "display_data"
    }
   ],
   "source": [
    "fig, axs = plt.subplots(ncols=3, nrows=1, figsize=(12,5))\n",
    "\n",
    "axs[0].bar(classes, [cnt_train[x] for x in [0, 1]])\n",
    "axs[0].set_ybound(0, 60000)\n",
    "axs[0].axhline(0.5*train_total, color='r')\n",
    "axs[0].set_title('Train count')\n",
    "\n",
    "axs[1].bar(classes, [cnt_valid[x] for x in [0, 1]])\n",
    "axs[1].set_ybound(0, 60000)\n",
    "axs[1].axhline(0.5*valid_total, color='r')\n",
    "axs[1].set_title('Valid count')\n",
    "\n",
    "axs[2].bar(classes, [cnt_test[x] for x in [0, 1]])\n",
    "axs[2].set_ybound(0, 60000)\n",
    "axs[2].axhline(0.5*test_total, color='r')\n",
    "axs[2].set_title('Test count')\n",
    "\n",
    "fig.suptitle('Balanced Load Counts (red line is balanced case)')\n",
    "\n",
    "plt.show()"
   ]
  }
 ],
 "metadata": {
  "kernelspec": {
   "display_name": "Python 3.10.8 64-bit",
   "language": "python",
   "name": "python3"
  },
  "language_info": {
   "codemirror_mode": {
    "name": "ipython",
    "version": 3
   },
   "file_extension": ".py",
   "mimetype": "text/x-python",
   "name": "python",
   "nbconvert_exporter": "python",
   "pygments_lexer": "ipython3",
   "version": "3.10.8"
  },
  "orig_nbformat": 4,
  "vscode": {
   "interpreter": {
    "hash": "c19fa61d258bb2b35aae2ada233c33e2817c1ce895aa48acba720c6bf7cbe3cb"
   }
  }
 },
 "nbformat": 4,
 "nbformat_minor": 2
}
